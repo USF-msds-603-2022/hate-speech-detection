{
  "nbformat": 4,
  "nbformat_minor": 0,
  "metadata": {
    "colab": {
      "name": "SPTP_Image.ipynb",
      "provenance": [],
      "collapsed_sections": [],
      "machine_shape": "hm"
    },
    "kernelspec": {
      "name": "python3",
      "display_name": "Python 3"
    },
    "language_info": {
      "name": "python"
    },
    "accelerator": "GPU",
    "gpuClass": "standard"
  },
  "cells": [
    {
      "cell_type": "code",
      "source": [
        "# importing eseential packages\n",
        "import pandas as pd\n",
        "import torch\n",
        "import torch.nn as nn\n",
        "import torch.nn.functional as F\n",
        "import cv2\n",
        "import numpy as np\n",
        "from torch.utils.data import Dataset,DataLoader\n",
        "from sklearn.metrics import accuracy_score\n",
        "import albumentations as A\n",
        "from albumentations.pytorch import ToTensorV2\n",
        "from tqdm import tqdm\n",
        "import spacy\n",
        "import simpletransformers\n",
        "from simpletransformers.language_representation import RepresentationModel\n",
        "from scipy import stats\n",
        "import scipy\n",
        "import seaborn as sns\n",
        "import matplotlib.pyplot as plt"
      ],
      "metadata": {
        "id": "vx1hM2cn_s1v"
      },
      "execution_count": 3,
      "outputs": []
    },
    {
      "cell_type": "code",
      "source": [
        "if torch.cuda.is_available():\n",
        "    device = torch.device('cuda:0')\n",
        "else:\n",
        "    device = torch.device('cpu')"
      ],
      "metadata": {
        "id": "TyvWsTqlm6qK"
      },
      "execution_count": 4,
      "outputs": []
    },
    {
      "cell_type": "markdown",
      "source": [
        "Loading the Data"
      ],
      "metadata": {
        "id": "_X_Gz01bAOjV"
      }
    },
    {
      "cell_type": "code",
      "source": [
        "\n",
        "df_train = pd.read_csv('splits/train_ids.txt', header = None).reset_index(drop=True)\n",
        "df_valid = pd.read_csv('splits/val_ids.txt', header = None).reset_index(drop=True)\n",
        "df_test = pd.read_csv('splits/test_ids.txt', header = None).reset_index(drop=True)\n",
        "mapping = pd.read_json('MMHS150K_GT.json').T\n",
        "mapping['id'] = mapping['tweet_url'].apply(lambda x : int(x.split('/')[-1]))\n",
        "mapping = mapping[mapping['labels'].apply(lambda x: len(x)) == 3]\n",
        "def get_mode_labels(array):\n",
        "  output = scipy.stats.mode(array, axis = 0)[0][0]\n",
        "  if output:\n",
        "    return 1\n",
        "  else:\n",
        "    return 0  \n",
        "mapping['new_labels'] = mapping['labels'].map(lambda x: get_mode_labels(x))"
      ],
      "metadata": {
        "id": "Xa63glmg_zw1"
      },
      "execution_count": 5,
      "outputs": []
    },
    {
      "cell_type": "code",
      "source": [
        "mapping = mapping[:14000]"
      ],
      "metadata": {
        "id": "meR_Su4hUrfJ"
      },
      "execution_count": 6,
      "outputs": []
    },
    {
      "cell_type": "markdown",
      "source": [
        "Data Exploration"
      ],
      "metadata": {
        "id": "adjL_OFL7RRU"
      }
    },
    {
      "cell_type": "code",
      "source": [
        "not_hate = mapping['new_labels'].value_counts()[0]/sum(mapping['new_labels'].value_counts())\n",
        "hate = mapping['new_labels'].value_counts()[1]/sum(mapping['new_labels'].value_counts())"
      ],
      "metadata": {
        "id": "w7lEMOif-5DH"
      },
      "execution_count": 7,
      "outputs": []
    },
    {
      "cell_type": "code",
      "source": [
        "new_label_df = mapping.groupby(by = 'new_labels').count().reset_index()[['new_labels', 'id']]"
      ],
      "metadata": {
        "id": "Zk1LNK8E-EW_"
      },
      "execution_count": 8,
      "outputs": []
    },
    {
      "cell_type": "code",
      "source": [
        "new_label_df['labels'] = np.where(new_label_df['new_labels'] == 0, 'Not Hate', 'Hate')"
      ],
      "metadata": {
        "id": "rX_OtbTr_xtY"
      },
      "execution_count": 9,
      "outputs": []
    },
    {
      "cell_type": "code",
      "source": [
        "ax = sns.barplot(x = 'labels', y = 'id', data =  new_label_df)\n",
        "ax.spines['right'].set_visible(False)\n",
        "ax.spines['top'].set_visible(False)\n",
        "ax.set_ylabel('Count')\n",
        "ax.set_title('Label Distribution')\n",
        "plt.show()"
      ],
      "metadata": {
        "colab": {
          "base_uri": "https://localhost:8080/",
          "height": 295
        },
        "id": "oqW9bEnJ8JkK",
        "outputId": "c69efe98-972d-4317-d2ec-6dbb1477dc18"
      },
      "execution_count": 10,
      "outputs": [
        {
          "output_type": "display_data",
          "data": {
            "text/plain": [
              "<Figure size 432x288 with 1 Axes>"
            ],
            "image/png": "[encoded data removed]"
          },
          "metadata": {
            "needs_background": "light"
          }
        }
      ]
    },
    {
      "cell_type": "code",
      "source": [
        "mapping['new_labels'].value_counts()"
      ],
      "metadata": {
        "colab": {
          "base_uri": "https://localhost:8080/"
        },
        "id": "eQa7FCj1zAwz",
        "outputId": "de3b0c05-bfe2-4bc1-ea91-a73031131e03"
      },
      "execution_count": 11,
      "outputs": [
        {
          "output_type": "execute_result",
          "data": {
            "text/plain": [
              "0    11147\n",
              "1     2853\n",
              "Name: new_labels, dtype: int64"
            ]
          },
          "metadata": {},
          "execution_count": 11
        }
      ]
    },
    {
      "cell_type": "code",
      "source": [
        "11147/2853"
      ],
      "metadata": {
        "colab": {
          "base_uri": "https://localhost:8080/"
        },
        "id": "tBzCsVVxzIvv",
        "outputId": "f5b22baa-02e4-4e64-cceb-c703759db8c1"
      },
      "execution_count": 12,
      "outputs": [
        {
          "output_type": "execute_result",
          "data": {
            "text/plain": [
              "3.9071153172099544"
            ]
          },
          "metadata": {},
          "execution_count": 12
        }
      ]
    },
    {
      "cell_type": "code",
      "source": [
        "df_train = df_train.merge(mapping, left_on = 0, right_on = 'id', how = 'inner' )[0]\n",
        "df_valid = df_valid.merge(mapping, left_on = 0, right_on = 'id' )[0]\n",
        "df_test = df_test.merge(mapping, left_on = 0, right_on = 'id' )[0]"
      ],
      "metadata": {
        "id": "ELw3zhTrTmKo"
      },
      "execution_count": 13,
      "outputs": []
    },
    {
      "cell_type": "code",
      "source": [
        "df_train"
      ],
      "metadata": {
        "colab": {
          "base_uri": "https://localhost:8080/"
        },
        "id": "8zEGMSlHsUA7",
        "outputId": "f690a009-6032-4f5e-b4b4-b2eaf4d1a10c"
      },
      "execution_count": 14,
      "outputs": [
        {
          "output_type": "execute_result",
          "data": {
            "text/plain": [
              "0        1108732814202228737\n",
              "1        1115098114485096450\n",
              "2        1115415058127970305\n",
              "3        1055991175197401088\n",
              "4        1061527109577785344\n",
              "                ...         \n",
              "10042    1115356440003133441\n",
              "10043    1107378909602033664\n",
              "10044    1106712950629371905\n",
              "10045    1110265873317670912\n",
              "10046    1108990126334586881\n",
              "Name: 0, Length: 10047, dtype: int64"
            ]
          },
          "metadata": {},
          "execution_count": 14
        }
      ]
    },
    {
      "cell_type": "markdown",
      "source": [
        "Creating dataset and dataloader"
      ],
      "metadata": {
        "id": "4X2XdQwBAklP"
      }
    },
    {
      "cell_type": "code",
      "source": [
        "class ImageDataset(Dataset):\n",
        "    def __init__(self, ids):\n",
        "        self.ids = ids\n",
        "        self.transpose = A.Compose([\n",
        "                # pixel-level transformation\n",
        "                A.RandomBrightnessContrast(p=0.3),\n",
        "                \n",
        "                # we will normalize according to ImageNet since we will be using a pre-trained ResNet\n",
        "                # this adjusts from [0,255] to [0,1]\n",
        "                A.Normalize(mean=(0.485, 0.456, 0.406), std=(0.229, 0.224, 0.225)),\n",
        "                \n",
        "                # convert to a tensor and move color channels\n",
        "                ToTensorV2()\n",
        "            ])\n",
        "\n",
        "    def __len__(self):\n",
        "        return len(self.ids)\n",
        "\n",
        "    def __getitem__(self, idx):\n",
        "        try:\n",
        "            file_name = self.ids[idx]\n",
        "            img = cv2.imread('img_resized/'+str(file_name)+'.jpg')\n",
        "            img = cv2.cvtColor(img, cv2.COLOR_BGR2RGB)\n",
        "            img = cv2.resize(img,(224,224))\n",
        "            img = self.transpose(image=img.astype(np.uint8))['image']\n",
        "\n",
        "            y = torch.tensor(mapping[mapping['id'] == file_name]['new_labels'].values)\n",
        "            \n",
        "            return img.to(device).float(),y.squeeze().to(device).float()\n",
        "        except:\n",
        "            print(y)\n",
        "\n",
        "    "
      ],
      "metadata": {
        "id": "URmpKMO_jKEg"
      },
      "execution_count": 15,
      "outputs": []
    },
    {
      "cell_type": "code",
      "source": [
        "batch_size = 320\n",
        "\n",
        "train_ds = ImageDataset(df_train)\n",
        "train_dl = DataLoader(train_ds, batch_size=batch_size, shuffle=True)\n",
        "\n",
        "valid_ds = ImageDataset(df_valid)\n",
        "valid_dl = DataLoader(valid_ds, batch_size=batch_size, shuffle=True)\n",
        "\n",
        "test_ds = ImageDataset(df_test)\n",
        "test_dl = DataLoader(test_ds, batch_size=batch_size, shuffle=True)"
      ],
      "metadata": {
        "id": "qLS9W-Urjp3D"
      },
      "execution_count": 16,
      "outputs": []
    },
    {
      "cell_type": "markdown",
      "source": [
        "Modelling"
      ],
      "metadata": {
        "id": "W6yo4wy7A6_a"
      }
    },
    {
      "cell_type": "code",
      "source": [
        "# Loading Resnet\n",
        "model = torch.hub.load('pytorch/vision:v0.10.0', 'resnet18', pretrained=True).to(device)\n"
      ],
      "metadata": {
        "colab": {
          "base_uri": "https://localhost:8080/"
        },
        "id": "7Zs6xrDRkJAI",
        "outputId": "99a9881b-618b-44ff-f7a1-9759dc6360d2"
      },
      "execution_count": 25,
      "outputs": [
        {
          "output_type": "stream",
          "name": "stderr",
          "text": [
            "Using cache found in /root/.cache/torch/hub/pytorch_vision_v0.10.0\n"
          ]
        }
      ]
    },
    {
      "cell_type": "code",
      "source": [
        "# final model used to process input image\n",
        "\n",
        "class ImageCNN(nn.Module):\n",
        "    def __init__(self):\n",
        "        super().__init__()\n",
        "        self.linear1 = nn.Linear(1000, 50)\n",
        "        self.linear2 = nn.Linear(50,1)\n",
        "        \n",
        "    def forward(self, feat):\n",
        "        feat = model(feat)\n",
        "        x = feat\n",
        "        x = F.relu(self.linear1(x))\n",
        "        x = self.linear2(x)   \n",
        "        return x\n",
        "    \n",
        "net = ImageCNN().to(device)"
      ],
      "metadata": {
        "id": "QfJJDTD1pNW_"
      },
      "execution_count": 26,
      "outputs": []
    },
    {
      "cell_type": "code",
      "source": [
        "def valid_metrics(model, test_dl):\n",
        "    \"\"\"Computes validation loss and accuracy\"\"\"\n",
        "    with torch.no_grad():\n",
        "        model.eval()\n",
        "        total_loss = []\n",
        "        total_acc = []\n",
        "        ### BEGIN SOLUTION\n",
        "        for feat, y1 in tqdm(test_dl):\n",
        "            \n",
        "            y_hat1 = model(feat).squeeze()\n",
        "            pos_weight = torch.tensor([4 if el == 1 else 1 for el in y1]).to(device)\n",
        "            train_loss = F.binary_cross_entropy_with_logits(y_hat1, y1, pos_weight = pos_weight)\n",
        "          \n",
        "            # valid_acc = accuracy_score(y1.cpu(),dim=-1),torch.argmax(F.log_softmax(y_hat1,dim=-1).cpu(),axis=1))\n",
        "            valid_acc = (np.array(y1.cpu())== np.around(torch.sigmoid(y_hat1).cpu().detach().numpy())).sum()/len(y1.cpu())\n",
        "            total_loss.append(train_loss.item())\n",
        "            total_acc.append(valid_acc)\n",
        "        \n",
        "        ### END SOLUTION\n",
        "        return np.mean(total_loss), np.mean(total_acc)\n",
        "\n",
        "\n",
        "\n",
        "def train_one_epoch(model, train_dl, optimizer):\n",
        "    \"\"\" Trains the model for one epoch\"\"\"\n",
        "    model.train()\n",
        "\n",
        "    for feat,y1 in tqdm(train_dl):\n",
        "        pos_weight = torch.tensor([4 if el == 1 else 1 for el in y1]).to(device)\n",
        "        y_hat1 = model(feat).squeeze()     \n",
        "        train_loss = F.binary_cross_entropy_with_logits(y_hat1, y1, pos_weight = pos_weight)\n",
        "        optimizer.zero_grad()\n",
        "        train_loss.backward()\n",
        "        optimizer.step()\n",
        "    \n",
        "    loss, acc = valid_metrics(model, train_dl)\n",
        "    \n",
        "    return loss, acc\n",
        "\n",
        "def training(model, train_dl, test_dl, epochs=10, lr=1e-4, wd=0.0):\n",
        "    optimizer = torch.optim.Adam(net.parameters(), lr = lr, weight_decay = wd)\n",
        "    for i in range(epochs):\n",
        "        print('-'*40,'epoch: ',i+1,'-'*40)\n",
        "        train_loss, train_acc = train_one_epoch(model, train_dl, optimizer)\n",
        "        test_loss, test_acc = valid_metrics(model, test_dl) \n",
        "        print(\"train acc %.3f test acc %.3f\" % (train_acc, test_acc))\n",
        "        print(f\"train_loss {train_loss} test_loss {test_loss}\") "
      ],
      "metadata": {
        "id": "ATdRVcljgvix"
      },
      "execution_count": 27,
      "outputs": []
    },
    {
      "cell_type": "markdown",
      "source": [
        "Training the model"
      ],
      "metadata": {
        "id": "uQ7LYGj3Bg3C"
      }
    },
    {
      "cell_type": "code",
      "source": [
        "\n",
        "training(net, train_dl,valid_dl,epochs = 5, lr = 1e-3, wd = 0)"
      ],
      "metadata": {
        "colab": {
          "base_uri": "https://localhost:8080/"
        },
        "id": "IycuHAtpgvUe",
        "outputId": "2dbcf621-7b2d-43a1-817f-94879de76bb1"
      },
      "execution_count": 28,
      "outputs": [
        {
          "output_type": "stream",
          "name": "stdout",
          "text": [
            "---------------------------------------- epoch:  1 ----------------------------------------\n"
          ]
        },
        {
          "output_type": "stream",
          "name": "stderr",
          "text": [
            "100%|██████████| 32/32 [01:23<00:00,  2.60s/it]\n",
            "100%|██████████| 32/32 [01:11<00:00,  2.24s/it]\n",
            "100%|██████████| 6/6 [00:13<00:00,  2.20s/it]\n"
          ]
        },
        {
          "output_type": "stream",
          "name": "stdout",
          "text": [
            "train acc 0.860 test acc 0.518\n",
            "train_loss 0.900509987026453 test_loss 2.28530224164327\n",
            "---------------------------------------- epoch:  2 ----------------------------------------\n"
          ]
        },
        {
          "output_type": "stream",
          "name": "stderr",
          "text": [
            "100%|██████████| 32/32 [01:23<00:00,  2.60s/it]\n",
            "100%|██████████| 32/32 [01:11<00:00,  2.25s/it]\n",
            "100%|██████████| 6/6 [00:13<00:00,  2.19s/it]\n"
          ]
        },
        {
          "output_type": "stream",
          "name": "stdout",
          "text": [
            "train acc 0.835 test acc 0.511\n",
            "train_loss 0.8754713255912066 test_loss 2.100468913714091\n",
            "---------------------------------------- epoch:  3 ----------------------------------------\n"
          ]
        },
        {
          "output_type": "stream",
          "name": "stderr",
          "text": [
            "100%|██████████| 32/32 [01:23<00:00,  2.62s/it]\n",
            "100%|██████████| 32/32 [01:11<00:00,  2.25s/it]\n",
            "100%|██████████| 6/6 [00:13<00:00,  2.20s/it]\n"
          ]
        },
        {
          "output_type": "stream",
          "name": "stdout",
          "text": [
            "train acc 0.812 test acc 0.507\n",
            "train_loss 0.848966907709837 test_loss 2.2179279724756875\n",
            "---------------------------------------- epoch:  4 ----------------------------------------\n"
          ]
        },
        {
          "output_type": "stream",
          "name": "stderr",
          "text": [
            "100%|██████████| 32/32 [01:23<00:00,  2.62s/it]\n",
            "100%|██████████| 32/32 [01:12<00:00,  2.26s/it]\n",
            "100%|██████████| 6/6 [00:13<00:00,  2.22s/it]\n"
          ]
        },
        {
          "output_type": "stream",
          "name": "stdout",
          "text": [
            "train acc 0.838 test acc 0.515\n",
            "train_loss 0.8265326283872128 test_loss 2.267032504081726\n",
            "---------------------------------------- epoch:  5 ----------------------------------------\n"
          ]
        },
        {
          "output_type": "stream",
          "name": "stderr",
          "text": [
            "100%|██████████| 32/32 [01:24<00:00,  2.64s/it]\n",
            "100%|██████████| 32/32 [01:12<00:00,  2.25s/it]\n",
            "100%|██████████| 6/6 [00:13<00:00,  2.20s/it]"
          ]
        },
        {
          "output_type": "stream",
          "name": "stdout",
          "text": [
            "train acc 0.836 test acc 0.517\n",
            "train_loss 0.7976903710514307 test_loss 2.4094889163970947\n"
          ]
        },
        {
          "output_type": "stream",
          "name": "stderr",
          "text": [
            "\n"
          ]
        }
      ]
    },
    {
      "cell_type": "code",
      "source": [
        ""
      ],
      "metadata": {
        "id": "SLJWm1BmYXuv"
      },
      "execution_count": null,
      "outputs": []
    }
  ]
}